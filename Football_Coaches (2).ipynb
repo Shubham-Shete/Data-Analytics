{
 "cells": [
  {
   "cell_type": "code",
   "execution_count": 2,
   "metadata": {},
   "outputs": [
    {
     "ename": "FileNotFoundError",
     "evalue": "[Errno 2] File b'/Users/shubham/Desktop/MSIM/SEM3/IST 718/My files/WEEK 1,2,3/LAB 3/Coaches8.csv' does not exist: b'/Users/shubham/Desktop/MSIM/SEM3/IST 718/My files/WEEK 1,2,3/LAB 3/Coaches8.csv'",
     "output_type": "error",
     "traceback": [
      "\u001b[0;31m---------------------------------------------------------------------------\u001b[0m",
      "\u001b[0;31mFileNotFoundError\u001b[0m                         Traceback (most recent call last)",
      "\u001b[0;32m<ipython-input-2-ea9ff8d5b0dc>\u001b[0m in \u001b[0;36m<module>\u001b[0;34m\u001b[0m\n\u001b[1;32m      7\u001b[0m \u001b[0;32mimport\u001b[0m \u001b[0mseaborn\u001b[0m \u001b[0;32mas\u001b[0m \u001b[0msns\u001b[0m\u001b[0;34m\u001b[0m\u001b[0;34m\u001b[0m\u001b[0m\n\u001b[1;32m      8\u001b[0m \u001b[0;32mfrom\u001b[0m \u001b[0msklearn\u001b[0m\u001b[0;34m.\u001b[0m\u001b[0mlinear_model\u001b[0m \u001b[0;32mimport\u001b[0m \u001b[0mLinearRegression\u001b[0m\u001b[0;34m\u001b[0m\u001b[0;34m\u001b[0m\u001b[0m\n\u001b[0;32m----> 9\u001b[0;31m \u001b[0mcoaches8\u001b[0m\u001b[0;34m=\u001b[0m\u001b[0mpd\u001b[0m\u001b[0;34m.\u001b[0m\u001b[0mread_csv\u001b[0m\u001b[0;34m(\u001b[0m\u001b[0;34m\"/Users/shubham/Desktop/MSIM/SEM3/IST 718/My files/WEEK 1,2,3/LAB 3/Coaches8.csv\"\u001b[0m\u001b[0;34m)\u001b[0m \u001b[0;31m#orginal data frame\u001b[0m\u001b[0;34m\u001b[0m\u001b[0;34m\u001b[0m\u001b[0m\n\u001b[0m\u001b[1;32m     10\u001b[0m \u001b[0mrates\u001b[0m\u001b[0;34m=\u001b[0m\u001b[0mpd\u001b[0m\u001b[0;34m.\u001b[0m\u001b[0mread_csv\u001b[0m\u001b[0;34m(\u001b[0m\u001b[0;34m\"/Users/shubham/Desktop/MSIM/SEM3/IST 718/My files/WEEK 1,2,3/LAB 3/GSR_FGR_State.csv\"\u001b[0m\u001b[0;34m)\u001b[0m \u001b[0;31m# GSR and FGR rates\u001b[0m\u001b[0;34m\u001b[0m\u001b[0;34m\u001b[0m\u001b[0m\n\u001b[1;32m     11\u001b[0m \u001b[0mstadium_size\u001b[0m\u001b[0;34m=\u001b[0m\u001b[0mpd\u001b[0m\u001b[0;34m.\u001b[0m\u001b[0mread_csv\u001b[0m\u001b[0;34m(\u001b[0m\u001b[0;34m\"/Users/shubham/Desktop/MSIM/SEM3/IST 718/My files/WEEK 1,2,3/LAB 3/Stadium_size.csv\"\u001b[0m\u001b[0;34m)\u001b[0m \u001b[0;31m# stadium sizes\u001b[0m\u001b[0;34m\u001b[0m\u001b[0;34m\u001b[0m\u001b[0m\n",
      "\u001b[0;32m/anaconda3/lib/python3.7/site-packages/pandas/io/parsers.py\u001b[0m in \u001b[0;36mparser_f\u001b[0;34m(filepath_or_buffer, sep, delimiter, header, names, index_col, usecols, squeeze, prefix, mangle_dupe_cols, dtype, engine, converters, true_values, false_values, skipinitialspace, skiprows, skipfooter, nrows, na_values, keep_default_na, na_filter, verbose, skip_blank_lines, parse_dates, infer_datetime_format, keep_date_col, date_parser, dayfirst, iterator, chunksize, compression, thousands, decimal, lineterminator, quotechar, quoting, doublequote, escapechar, comment, encoding, dialect, tupleize_cols, error_bad_lines, warn_bad_lines, delim_whitespace, low_memory, memory_map, float_precision)\u001b[0m\n\u001b[1;32m    700\u001b[0m                     skip_blank_lines=skip_blank_lines)\n\u001b[1;32m    701\u001b[0m \u001b[0;34m\u001b[0m\u001b[0m\n\u001b[0;32m--> 702\u001b[0;31m         \u001b[0;32mreturn\u001b[0m \u001b[0m_read\u001b[0m\u001b[0;34m(\u001b[0m\u001b[0mfilepath_or_buffer\u001b[0m\u001b[0;34m,\u001b[0m \u001b[0mkwds\u001b[0m\u001b[0;34m)\u001b[0m\u001b[0;34m\u001b[0m\u001b[0;34m\u001b[0m\u001b[0m\n\u001b[0m\u001b[1;32m    703\u001b[0m \u001b[0;34m\u001b[0m\u001b[0m\n\u001b[1;32m    704\u001b[0m     \u001b[0mparser_f\u001b[0m\u001b[0;34m.\u001b[0m\u001b[0m__name__\u001b[0m \u001b[0;34m=\u001b[0m \u001b[0mname\u001b[0m\u001b[0;34m\u001b[0m\u001b[0;34m\u001b[0m\u001b[0m\n",
      "\u001b[0;32m/anaconda3/lib/python3.7/site-packages/pandas/io/parsers.py\u001b[0m in \u001b[0;36m_read\u001b[0;34m(filepath_or_buffer, kwds)\u001b[0m\n\u001b[1;32m    427\u001b[0m \u001b[0;34m\u001b[0m\u001b[0m\n\u001b[1;32m    428\u001b[0m     \u001b[0;31m# Create the parser.\u001b[0m\u001b[0;34m\u001b[0m\u001b[0;34m\u001b[0m\u001b[0;34m\u001b[0m\u001b[0m\n\u001b[0;32m--> 429\u001b[0;31m     \u001b[0mparser\u001b[0m \u001b[0;34m=\u001b[0m \u001b[0mTextFileReader\u001b[0m\u001b[0;34m(\u001b[0m\u001b[0mfilepath_or_buffer\u001b[0m\u001b[0;34m,\u001b[0m \u001b[0;34m**\u001b[0m\u001b[0mkwds\u001b[0m\u001b[0;34m)\u001b[0m\u001b[0;34m\u001b[0m\u001b[0;34m\u001b[0m\u001b[0m\n\u001b[0m\u001b[1;32m    430\u001b[0m \u001b[0;34m\u001b[0m\u001b[0m\n\u001b[1;32m    431\u001b[0m     \u001b[0;32mif\u001b[0m \u001b[0mchunksize\u001b[0m \u001b[0;32mor\u001b[0m \u001b[0miterator\u001b[0m\u001b[0;34m:\u001b[0m\u001b[0;34m\u001b[0m\u001b[0;34m\u001b[0m\u001b[0m\n",
      "\u001b[0;32m/anaconda3/lib/python3.7/site-packages/pandas/io/parsers.py\u001b[0m in \u001b[0;36m__init__\u001b[0;34m(self, f, engine, **kwds)\u001b[0m\n\u001b[1;32m    893\u001b[0m             \u001b[0mself\u001b[0m\u001b[0;34m.\u001b[0m\u001b[0moptions\u001b[0m\u001b[0;34m[\u001b[0m\u001b[0;34m'has_index_names'\u001b[0m\u001b[0;34m]\u001b[0m \u001b[0;34m=\u001b[0m \u001b[0mkwds\u001b[0m\u001b[0;34m[\u001b[0m\u001b[0;34m'has_index_names'\u001b[0m\u001b[0;34m]\u001b[0m\u001b[0;34m\u001b[0m\u001b[0;34m\u001b[0m\u001b[0m\n\u001b[1;32m    894\u001b[0m \u001b[0;34m\u001b[0m\u001b[0m\n\u001b[0;32m--> 895\u001b[0;31m         \u001b[0mself\u001b[0m\u001b[0;34m.\u001b[0m\u001b[0m_make_engine\u001b[0m\u001b[0;34m(\u001b[0m\u001b[0mself\u001b[0m\u001b[0;34m.\u001b[0m\u001b[0mengine\u001b[0m\u001b[0;34m)\u001b[0m\u001b[0;34m\u001b[0m\u001b[0;34m\u001b[0m\u001b[0m\n\u001b[0m\u001b[1;32m    896\u001b[0m \u001b[0;34m\u001b[0m\u001b[0m\n\u001b[1;32m    897\u001b[0m     \u001b[0;32mdef\u001b[0m \u001b[0mclose\u001b[0m\u001b[0;34m(\u001b[0m\u001b[0mself\u001b[0m\u001b[0;34m)\u001b[0m\u001b[0;34m:\u001b[0m\u001b[0;34m\u001b[0m\u001b[0;34m\u001b[0m\u001b[0m\n",
      "\u001b[0;32m/anaconda3/lib/python3.7/site-packages/pandas/io/parsers.py\u001b[0m in \u001b[0;36m_make_engine\u001b[0;34m(self, engine)\u001b[0m\n\u001b[1;32m   1120\u001b[0m     \u001b[0;32mdef\u001b[0m \u001b[0m_make_engine\u001b[0m\u001b[0;34m(\u001b[0m\u001b[0mself\u001b[0m\u001b[0;34m,\u001b[0m \u001b[0mengine\u001b[0m\u001b[0;34m=\u001b[0m\u001b[0;34m'c'\u001b[0m\u001b[0;34m)\u001b[0m\u001b[0;34m:\u001b[0m\u001b[0;34m\u001b[0m\u001b[0;34m\u001b[0m\u001b[0m\n\u001b[1;32m   1121\u001b[0m         \u001b[0;32mif\u001b[0m \u001b[0mengine\u001b[0m \u001b[0;34m==\u001b[0m \u001b[0;34m'c'\u001b[0m\u001b[0;34m:\u001b[0m\u001b[0;34m\u001b[0m\u001b[0;34m\u001b[0m\u001b[0m\n\u001b[0;32m-> 1122\u001b[0;31m             \u001b[0mself\u001b[0m\u001b[0;34m.\u001b[0m\u001b[0m_engine\u001b[0m \u001b[0;34m=\u001b[0m \u001b[0mCParserWrapper\u001b[0m\u001b[0;34m(\u001b[0m\u001b[0mself\u001b[0m\u001b[0;34m.\u001b[0m\u001b[0mf\u001b[0m\u001b[0;34m,\u001b[0m \u001b[0;34m**\u001b[0m\u001b[0mself\u001b[0m\u001b[0;34m.\u001b[0m\u001b[0moptions\u001b[0m\u001b[0;34m)\u001b[0m\u001b[0;34m\u001b[0m\u001b[0;34m\u001b[0m\u001b[0m\n\u001b[0m\u001b[1;32m   1123\u001b[0m         \u001b[0;32melse\u001b[0m\u001b[0;34m:\u001b[0m\u001b[0;34m\u001b[0m\u001b[0;34m\u001b[0m\u001b[0m\n\u001b[1;32m   1124\u001b[0m             \u001b[0;32mif\u001b[0m \u001b[0mengine\u001b[0m \u001b[0;34m==\u001b[0m \u001b[0;34m'python'\u001b[0m\u001b[0;34m:\u001b[0m\u001b[0;34m\u001b[0m\u001b[0;34m\u001b[0m\u001b[0m\n",
      "\u001b[0;32m/anaconda3/lib/python3.7/site-packages/pandas/io/parsers.py\u001b[0m in \u001b[0;36m__init__\u001b[0;34m(self, src, **kwds)\u001b[0m\n\u001b[1;32m   1851\u001b[0m         \u001b[0mkwds\u001b[0m\u001b[0;34m[\u001b[0m\u001b[0;34m'usecols'\u001b[0m\u001b[0;34m]\u001b[0m \u001b[0;34m=\u001b[0m \u001b[0mself\u001b[0m\u001b[0;34m.\u001b[0m\u001b[0musecols\u001b[0m\u001b[0;34m\u001b[0m\u001b[0;34m\u001b[0m\u001b[0m\n\u001b[1;32m   1852\u001b[0m \u001b[0;34m\u001b[0m\u001b[0m\n\u001b[0;32m-> 1853\u001b[0;31m         \u001b[0mself\u001b[0m\u001b[0;34m.\u001b[0m\u001b[0m_reader\u001b[0m \u001b[0;34m=\u001b[0m \u001b[0mparsers\u001b[0m\u001b[0;34m.\u001b[0m\u001b[0mTextReader\u001b[0m\u001b[0;34m(\u001b[0m\u001b[0msrc\u001b[0m\u001b[0;34m,\u001b[0m \u001b[0;34m**\u001b[0m\u001b[0mkwds\u001b[0m\u001b[0;34m)\u001b[0m\u001b[0;34m\u001b[0m\u001b[0;34m\u001b[0m\u001b[0m\n\u001b[0m\u001b[1;32m   1854\u001b[0m         \u001b[0mself\u001b[0m\u001b[0;34m.\u001b[0m\u001b[0munnamed_cols\u001b[0m \u001b[0;34m=\u001b[0m \u001b[0mself\u001b[0m\u001b[0;34m.\u001b[0m\u001b[0m_reader\u001b[0m\u001b[0;34m.\u001b[0m\u001b[0munnamed_cols\u001b[0m\u001b[0;34m\u001b[0m\u001b[0;34m\u001b[0m\u001b[0m\n\u001b[1;32m   1855\u001b[0m \u001b[0;34m\u001b[0m\u001b[0m\n",
      "\u001b[0;32mpandas/_libs/parsers.pyx\u001b[0m in \u001b[0;36mpandas._libs.parsers.TextReader.__cinit__\u001b[0;34m()\u001b[0m\n",
      "\u001b[0;32mpandas/_libs/parsers.pyx\u001b[0m in \u001b[0;36mpandas._libs.parsers.TextReader._setup_parser_source\u001b[0;34m()\u001b[0m\n",
      "\u001b[0;31mFileNotFoundError\u001b[0m: [Errno 2] File b'/Users/shubham/Desktop/MSIM/SEM3/IST 718/My files/WEEK 1,2,3/LAB 3/Coaches8.csv' does not exist: b'/Users/shubham/Desktop/MSIM/SEM3/IST 718/My files/WEEK 1,2,3/LAB 3/Coaches8.csv'"
     ]
    }
   ],
   "source": [
    "# Data obtaining and loading\n",
    "import pandas as pd #data frame operation\n",
    "import numpy as np #array and math functions\n",
    "import statsmodels.api as sm\n",
    "from sklearn.model_selection import train_test_split\n",
    "import matplotlib.pyplot as plt\n",
    "import seaborn as sns\n",
    "from sklearn.linear_model import LinearRegression\n",
    "coaches8=pd.read_csv(\"/Users/shubham/Desktop/MSIM/SEM3/IST 718/My files/WEEK 1,2,3/LAB 3/Coaches8.csv\") #orginal data frame\n",
    "rates=pd.read_csv(\"/Users/shubham/Desktop/MSIM/SEM3/IST 718/My files/WEEK 1,2,3/LAB 3/GSR_FGR_State.csv\") # GSR and FGR rates\n",
    "stadium_size=pd.read_csv(\"/Users/shubham/Desktop/MSIM/SEM3/IST 718/My files/WEEK 1,2,3/LAB 3/Stadium_size.csv\") # stadium sizes"
   ]
  },
  {
   "cell_type": "code",
   "execution_count": null,
   "metadata": {},
   "outputs": [],
   "source": [
    "coaches8['School']= coaches8['School'].str.strip()\n",
    "rates['School']= rates['School'].str.strip()\n",
    "\n",
    "Grad_rates= rates\n",
    "Coaches=coaches8\n",
    "Stadiums= stadium_size\n",
    "Coaches.columns = list(Coaches.columns.str.lower())\n",
    "Stadiums.columns = list(Stadiums.columns.str.lower())\n",
    "Grad_rates.columns = list(Grad_rates.columns.str.lower())\n",
    "print(Stadiums.columns)\n",
    "print(Grad_rates.columns)\n",
    "print(Coaches.columns)\n",
    "Stadiums.shape"
   ]
  },
  {
   "cell_type": "code",
   "execution_count": null,
   "metadata": {},
   "outputs": [],
   "source": [
    "# dropping \"Expanded\" , \"conference\" and \"div\" from stadium size\n",
    "Stadiums= Stadiums.drop(Stadiums.columns[[6,7,8]], axis=1)\n",
    "\n",
    "# dropping \"cohort\" , \"Unnamed: 6\" and \"unnamed: 7\" from Grat_rates\n",
    "Grad_rates=Grad_rates.drop(Grad_rates.columns[[2]], axis=1)\n",
    "\n",
    "\n",
    "\n",
    "# dropping \"assistantpay\" from Coaches  \n",
    "Coaches=Coaches.drop(Coaches.columns[[7]], axis=1)\n",
    "\n",
    "\n",
    "print(Grad_rates.head(6))\n",
    "\n",
    "print(Grad_rates.tail())\n",
    "\n",
    "type(Grad_rates)"
   ]
  },
  {
   "cell_type": "markdown",
   "metadata": {},
   "source": [
    "# replacing '--' with null values\n",
    "Coaches.loc[Coaches['schoolpay']==\"--\", 'schoolpay'] = np.nan\n",
    "Coaches.loc[Coaches['totalpay']==\"--\", 'totalpay'] = np.nan\n",
    "Coaches.loc[Coaches['bonus']==\"--\", 'bonus'] = np.nan\n",
    "Coaches.loc[Coaches['bonuspaid']==\"--\", 'bonuspaid'] = np.nan\n",
    "Coaches.loc[Coaches['buyout']==\"--\", 'buyout'] = np.nan\n",
    "#Coaches.fillna(0, inplace=True)\n",
    "\n",
    "#df[''] = pd.to_numeric(df['values'], errors='coerce')\n",
    "#Coaches= Coaches[totalpay].replace('a',np.NaN)\n",
    "#Coaches = Coaches.conevert_objects(convert_numeric= True).fillna(0)\n",
    "#Coaches=Coaches.replace('NaN',0, inplace= True)\n",
    "Coaches.head(3)"
   ]
  },
  {
   "cell_type": "code",
   "execution_count": 2745,
   "metadata": {},
   "outputs": [
    {
     "data": {
      "text/plain": [
       "Index(['school', 'conference_x', 'coach', 'schoolpay', 'totalpay', 'bonus',\n",
       "       'bonuspaid', 'buyout', 'stadium', 'city', 'state', 'conference_y',\n",
       "       'capacity', 'latitude', 'longitude'],\n",
       "      dtype='object')"
      ]
     },
     "execution_count": 2745,
     "metadata": {},
     "output_type": "execute_result"
    }
   ],
   "source": [
    "\n",
    "Stadiums.rename(columns={'team': 'school'}, inplace=True)\n",
    "\n",
    "# using loop to complete the errornous data that is common in both the dataframes\n",
    "def incomplete_stads(coach, school):\n",
    "    Coaches.loc[Coaches.coach == coach, 'school']= school\n",
    "    \n",
    "incomplete_data = { 'Dana Dimel': 'UTEP',  'Frank Wilson': 'UTSA','Gary Patterson': 'TCU','Jay Hopson': 'Southern Miss',\n",
    "    'Charlie Strong': 'USF', 'Rod Carey': 'NIU', 'Dave Doeren': 'NC State','Tony Sanchez': 'UNLV','Chuck Martin': 'Miami (OH)','Mark Richt': 'Miami',\n",
    "    'Mark Whipple': 'UMass','Turner Gill': 'Liberty Flames', 'Butch Davis': 'FIU','Joe Moglia': 'Coastal Carolina Chanticleers', 'Josh Heupel': 'UCF'}\n",
    "for coach, school in incomplete_data.items():\n",
    "    incomplete_stads(coach, school)\n",
    "    \n",
    "Coaches_Stadiums = pd.merge(Coaches, Stadiums, on='school', how='left')\n",
    "\n",
    "\n",
    "Coaches_Stadiums.columns\n"
   ]
  },
  {
   "cell_type": "code",
   "execution_count": 2746,
   "metadata": {},
   "outputs": [],
   "source": [
    "\n",
    "#manually updating one record which is not matching the Stadiums data-set\n",
    "\n",
    "Coaches_Stadiums.loc[Coaches_Stadiums.coach == 'Bill Clark', 'city'] = 'Birmingham'\n",
    "Coaches_Stadiums.loc[Coaches_Stadiums.coach == 'Bill Clark', 'stadium'] = 'Legion Field'\n",
    "Coaches_Stadiums.loc[Coaches_Stadiums.coach == 'Bill Clark', 'capacity'] = 71594\n",
    "Coaches_Stadiums.loc[Coaches_Stadiums.coach == 'Bill Clark', 'latitude'] = 33.511389\n",
    "Coaches_Stadiums.loc[Coaches_Stadiums.coach == 'Bill Clark', 'longitude'] = -86.842778\n",
    "Coaches_Stadiums.loc[Coaches_Stadiums.coach == 'Bill Clark', 'state'] = 'AL'"
   ]
  },
  {
   "cell_type": "code",
   "execution_count": 2747,
   "metadata": {},
   "outputs": [],
   "source": [
    "Coaches_Stadiums['totalpay'] = Coaches_Stadiums['totalpay'].str.replace(',', '')\n",
    "Coaches_Stadiums['totalpay'] = Coaches_Stadiums['totalpay'].str.replace('$', '')\n",
    "Coaches_Stadiums['totalpay'] = Coaches_Stadiums['totalpay'].replace('--', Coaches_Stadiums['totalpay'].replace(['--'], [None]))\n"
   ]
  },
  {
   "cell_type": "code",
   "execution_count": 2748,
   "metadata": {},
   "outputs": [],
   "source": [
    "Coaches_Stadiums['bonus'] = Coaches_Stadiums['bonus'].str.replace(',', '')\n",
    "Coaches_Stadiums['bonus'] = Coaches_Stadiums['bonus'].str.replace('$', '')\n",
    "Coaches_Stadiums['bonus'] = Coaches_Stadiums['bonus'].replace('--', Coaches_Stadiums['bonus'].replace(['--'], [None]))\n"
   ]
  },
  {
   "cell_type": "code",
   "execution_count": 2749,
   "metadata": {},
   "outputs": [],
   "source": [
    "Coaches_Stadiums['bonuspaid'] = Coaches_Stadiums['bonuspaid'].str.replace(',', '')\n",
    "Coaches_Stadiums['bonuspaid'] = Coaches_Stadiums['bonuspaid'].str.replace('$', '')\n",
    "Coaches_Stadiums['bonuspaid'] = Coaches_Stadiums['bonuspaid'].replace('--', Coaches_Stadiums['bonuspaid'].replace(['--'], [None]))\n"
   ]
  },
  {
   "cell_type": "code",
   "execution_count": 2750,
   "metadata": {},
   "outputs": [],
   "source": [
    "Coaches_Stadiums['buyout'] = Coaches_Stadiums['buyout'].str.replace(',', '')\n",
    "Coaches_Stadiums['buyout'] = Coaches_Stadiums['buyout'].str.replace('$', '')\n",
    "Coaches_Stadiums['buyout'] = Coaches_Stadiums['buyout'].replace('--', Coaches_Stadiums['buyout'].replace(['--'], [None]))\n"
   ]
  },
  {
   "cell_type": "code",
   "execution_count": 2751,
   "metadata": {},
   "outputs": [],
   "source": [
    "Coaches_Stadiums['schoolpay'] = Coaches_Stadiums['schoolpay'].str.replace(',', '')\n",
    "Coaches_Stadiums['schoolpay'] = Coaches_Stadiums['schoolpay'].str.replace('$', '')\n",
    "Coaches_Stadiums['schoolpay'] = Coaches_Stadiums['schoolpay'].replace('--', Coaches_Stadiums['schoolpay'].replace(['--'], [None]))\n"
   ]
  },
  {
   "cell_type": "code",
   "execution_count": 2752,
   "metadata": {},
   "outputs": [
    {
     "data": {
      "text/html": [
       "<div>\n",
       "<style scoped>\n",
       "    .dataframe tbody tr th:only-of-type {\n",
       "        vertical-align: middle;\n",
       "    }\n",
       "\n",
       "    .dataframe tbody tr th {\n",
       "        vertical-align: top;\n",
       "    }\n",
       "\n",
       "    .dataframe thead th {\n",
       "        text-align: right;\n",
       "    }\n",
       "</style>\n",
       "<table border=\"1\" class=\"dataframe\">\n",
       "  <thead>\n",
       "    <tr style=\"text-align: right;\">\n",
       "      <th></th>\n",
       "      <th>school</th>\n",
       "      <th>conference_x</th>\n",
       "      <th>coach</th>\n",
       "      <th>schoolpay</th>\n",
       "      <th>totalpay</th>\n",
       "      <th>bonus</th>\n",
       "      <th>bonuspaid</th>\n",
       "      <th>buyout</th>\n",
       "      <th>stadium</th>\n",
       "      <th>city</th>\n",
       "      <th>state</th>\n",
       "      <th>conference_y</th>\n",
       "      <th>capacity</th>\n",
       "      <th>latitude</th>\n",
       "      <th>longitude</th>\n",
       "    </tr>\n",
       "  </thead>\n",
       "  <tbody>\n",
       "    <tr>\n",
       "      <th>0</th>\n",
       "      <td>UCF</td>\n",
       "      <td>AAC</td>\n",
       "      <td>Josh Heupel</td>\n",
       "      <td>1700000</td>\n",
       "      <td>1700000</td>\n",
       "      <td>250000</td>\n",
       "      <td>None</td>\n",
       "      <td>3587500</td>\n",
       "      <td>Bright House Networks Stadium</td>\n",
       "      <td>Orlando</td>\n",
       "      <td>FL</td>\n",
       "      <td>American</td>\n",
       "      <td>45323.0</td>\n",
       "      <td>28.607959</td>\n",
       "      <td>-81.192999</td>\n",
       "    </tr>\n",
       "    <tr>\n",
       "      <th>1</th>\n",
       "      <td>Cincinnati</td>\n",
       "      <td>AAC</td>\n",
       "      <td>Luke Fickell</td>\n",
       "      <td>2000000</td>\n",
       "      <td>2000000</td>\n",
       "      <td>625000</td>\n",
       "      <td>0</td>\n",
       "      <td>7100000</td>\n",
       "      <td>Nippert Stadium</td>\n",
       "      <td>Cincinnati</td>\n",
       "      <td>OH</td>\n",
       "      <td>American</td>\n",
       "      <td>40000.0</td>\n",
       "      <td>39.131284</td>\n",
       "      <td>-84.516261</td>\n",
       "    </tr>\n",
       "    <tr>\n",
       "      <th>2</th>\n",
       "      <td>Connecticut</td>\n",
       "      <td>AAC</td>\n",
       "      <td>Randy Edsall</td>\n",
       "      <td>1100000</td>\n",
       "      <td>1100000</td>\n",
       "      <td>650000</td>\n",
       "      <td>129000</td>\n",
       "      <td>1000000</td>\n",
       "      <td>Rentschler Field</td>\n",
       "      <td>East Hartford</td>\n",
       "      <td>CT</td>\n",
       "      <td>American</td>\n",
       "      <td>40000.0</td>\n",
       "      <td>41.759884</td>\n",
       "      <td>-72.618942</td>\n",
       "    </tr>\n",
       "    <tr>\n",
       "      <th>3</th>\n",
       "      <td>East Carolina</td>\n",
       "      <td>AAC</td>\n",
       "      <td>Scottie Montgomery</td>\n",
       "      <td>1102500</td>\n",
       "      <td>1102500</td>\n",
       "      <td>850000</td>\n",
       "      <td>0</td>\n",
       "      <td>1233333</td>\n",
       "      <td>Dowdy–Ficklen Stadium</td>\n",
       "      <td>Greenville</td>\n",
       "      <td>NC</td>\n",
       "      <td>American</td>\n",
       "      <td>50000.0</td>\n",
       "      <td>35.596426</td>\n",
       "      <td>-77.365229</td>\n",
       "    </tr>\n",
       "    <tr>\n",
       "      <th>4</th>\n",
       "      <td>Houston</td>\n",
       "      <td>AAC</td>\n",
       "      <td>Major Applewhite</td>\n",
       "      <td>1750000</td>\n",
       "      <td>1750000</td>\n",
       "      <td>782500</td>\n",
       "      <td>20000</td>\n",
       "      <td>2112500</td>\n",
       "      <td>TDECU Stadium</td>\n",
       "      <td>Houston</td>\n",
       "      <td>TX</td>\n",
       "      <td>American</td>\n",
       "      <td>40000.0</td>\n",
       "      <td>29.721768</td>\n",
       "      <td>-95.349098</td>\n",
       "    </tr>\n",
       "  </tbody>\n",
       "</table>\n",
       "</div>"
      ],
      "text/plain": [
       "          school conference_x               coach schoolpay  totalpay  \\\n",
       "0            UCF          AAC         Josh Heupel  1700000   1700000    \n",
       "1     Cincinnati          AAC        Luke Fickell  2000000   2000000    \n",
       "2    Connecticut          AAC        Randy Edsall  1100000   1100000    \n",
       "3  East Carolina          AAC  Scottie Montgomery  1102500   1102500    \n",
       "4        Houston          AAC    Major Applewhite  1750000   1750000    \n",
       "\n",
       "     bonus bonuspaid    buyout                        stadium           city  \\\n",
       "0  250000       None  3587500   Bright House Networks Stadium        Orlando   \n",
       "1  625000         0   7100000                 Nippert Stadium     Cincinnati   \n",
       "2  650000    129000   1000000                Rentschler Field  East Hartford   \n",
       "3  850000         0   1233333           Dowdy–Ficklen Stadium     Greenville   \n",
       "4  782500     20000   2112500                   TDECU Stadium        Houston   \n",
       "\n",
       "  state conference_y  capacity   latitude  longitude  \n",
       "0    FL     American   45323.0  28.607959 -81.192999  \n",
       "1    OH     American   40000.0  39.131284 -84.516261  \n",
       "2    CT     American   40000.0  41.759884 -72.618942  \n",
       "3    NC     American   50000.0  35.596426 -77.365229  \n",
       "4    TX     American   40000.0  29.721768 -95.349098  "
      ]
     },
     "execution_count": 2752,
     "metadata": {},
     "output_type": "execute_result"
    }
   ],
   "source": [
    "\n",
    "Coaches_Stadiums = Coaches_Stadiums.dropna(axis=0, subset=['totalpay'])\n",
    "\n",
    "Coaches_Stadiums.head(5)"
   ]
  },
  {
   "cell_type": "code",
   "execution_count": 2753,
   "metadata": {},
   "outputs": [],
   "source": [
    "Coaches_Stadiums['totalpay'] = Coaches_Stadiums['totalpay'].astype(float)\n",
    "Coaches_Stadiums['bonus'] = Coaches_Stadiums['bonus'].astype(float)\n",
    "Coaches_Stadiums['bonuspaid'] = Coaches_Stadiums['bonuspaid'].astype(float)\n",
    "Coaches_Stadiums['buyout'] = Coaches_Stadiums['buyout'].astype(float)\n",
    "Coaches_Stadiums['schoolpay'] = Coaches_Stadiums['schoolpay'].astype(float)"
   ]
  },
  {
   "cell_type": "code",
   "execution_count": 2754,
   "metadata": {},
   "outputs": [
    {
     "name": "stderr",
     "output_type": "stream",
     "text": [
      "/anaconda3/lib/python3.7/site-packages/ipykernel_launcher.py:51: UserWarning: This pattern has match groups. To actually get the groups, use str.extract.\n"
     ]
    }
   ],
   "source": [
    "school_map = {\n",
    "    'CaliforniaState University-Bakersfield': 'California',\n",
    "    'Wisconsin-Madison': 'Wisconsin',\n",
    "    'California-Berkeley': 'California',\n",
    "    'Texas Christian': 'TCU',\n",
    "    'Texas at El Paso': 'UTEP',\n",
    "    'Texas at Austin': 'Texas',\n",
    "    'Virginia Polytechnic Institute and State': 'Virginia Tech',\n",
    "    'Texas A & M University-College Station': 'Texas A&M',\n",
    "    'California State University-Fresno': 'Fresno State',\n",
    "    'Texas at San Antonio': 'UTSA',\n",
    "    'Washington-Seattle Campus': 'Washington',\n",
    "    'California-Los Angeles': 'UCLA',\n",
    "    'Reno': 'Nevada',\n",
    "    'Las Vegas': 'UNLV',\n",
    "    'Chapel Hill': 'North Carolina',\n",
    "    'Northern Illinois': 'NIU',\n",
    "    'Louisiana at Lafayette': 'Louisiana-Lafayette',\n",
    "    'Miami University-Oxford': 'Miami (OH)',\n",
    "    'Liberty': 'Liberty Flames',\n",
    "    'Naval': 'Navy',\n",
    "    'Military Academy': 'Army',\n",
    "    'Bowling Green': 'Bowling Green',\n",
    "    'Southern Mississippi': 'Southern Miss',\n",
    "    'South Florida': 'USF',\n",
    "    'UCF':'Central Florida',\n",
    "    'Florida International': 'FIU',\n",
    "    'Coastal': 'Coastal Carolina Chanticleers',\n",
    "    'Colorado Boulder': 'Colorado',\n",
    "    'Georgia Institute of Technology': 'Georgia Tech',\n",
    "    'Champaign': 'Illinois',\n",
    "    'Bloomington': 'Indiana',\n",
    "    'Monroe': 'Louisiana-Monroe',\n",
    "    'Louisiana State': 'LSU',\n",
    "    'College Park': 'Maryland',\n",
    "    'Massachusetts': 'UMass',\n",
    "    'Ann Arbor': 'Michigan',\n",
    "    'Missouri-Columbia': 'Missouri',\n",
    "    'Nebraska': 'Nebraska',\n",
    "    'Raleigh': 'NC State',\n",
    "    'Norman': 'Oklahoma',\n",
    "    'Knoxville': 'Tennessee',\n",
    "    'Pennsylvania State': 'Penn State',\n",
    "    'South Carolina-Columbia': 'South Carolina',\n",
    "    'Tulsa':'Tulsa',\n",
    "    'Miami (Florida)':'Miami',\n",
    "    'North Carolina State ':'NC State'\n",
    "    \n",
    "}\n",
    "for pre, post in school_map.items():\n",
    "    Grad_rates.loc[Grad_rates.school.str.contains(pre), 'school'] = post"
   ]
  },
  {
   "cell_type": "code",
   "execution_count": 2755,
   "metadata": {},
   "outputs": [
    {
     "data": {
      "text/plain": [
       "(125, 19)"
      ]
     },
     "execution_count": 2755,
     "metadata": {},
     "output_type": "execute_result"
    }
   ],
   "source": [
    "Coaches_Stadiums_Grad_rates = pd.merge(Coaches_Stadiums, Grad_rates, on='school', how='left')\n",
    "Coaches_Stadiums_Grad_rates\n",
    "Coaches_Stadiums_Grad_rates = Coaches_Stadiums_Grad_rates.drop([Coaches_Stadiums_Grad_rates.index[92] , Coaches_Stadiums_Grad_rates.index[103]])\n",
    "Coaches_Stadiums_Grad_rates.shape"
   ]
  },
  {
   "cell_type": "code",
   "execution_count": 2756,
   "metadata": {},
   "outputs": [
    {
     "data": {
      "text/html": [
       "<div>\n",
       "<style scoped>\n",
       "    .dataframe tbody tr th:only-of-type {\n",
       "        vertical-align: middle;\n",
       "    }\n",
       "\n",
       "    .dataframe tbody tr th {\n",
       "        vertical-align: top;\n",
       "    }\n",
       "\n",
       "    .dataframe thead th {\n",
       "        text-align: right;\n",
       "    }\n",
       "</style>\n",
       "<table border=\"1\" class=\"dataframe\">\n",
       "  <thead>\n",
       "    <tr style=\"text-align: right;\">\n",
       "      <th></th>\n",
       "      <th>school</th>\n",
       "      <th>conference_x</th>\n",
       "      <th>coach</th>\n",
       "      <th>schoolpay</th>\n",
       "      <th>totalpay</th>\n",
       "      <th>bonus</th>\n",
       "      <th>bonuspaid</th>\n",
       "      <th>buyout</th>\n",
       "      <th>stadium</th>\n",
       "      <th>city</th>\n",
       "      <th>state_x</th>\n",
       "      <th>conference_y</th>\n",
       "      <th>capacity</th>\n",
       "      <th>latitude</th>\n",
       "      <th>longitude</th>\n",
       "      <th>conference</th>\n",
       "      <th>state_y</th>\n",
       "      <th>gsr</th>\n",
       "      <th>fgr</th>\n",
       "    </tr>\n",
       "  </thead>\n",
       "  <tbody>\n",
       "    <tr>\n",
       "      <th>0</th>\n",
       "      <td>UCF</td>\n",
       "      <td>AAC</td>\n",
       "      <td>Josh Heupel</td>\n",
       "      <td>1700000.0</td>\n",
       "      <td>1700000.0</td>\n",
       "      <td>250000.0</td>\n",
       "      <td>NaN</td>\n",
       "      <td>3587500.0</td>\n",
       "      <td>Bright House Networks Stadium</td>\n",
       "      <td>Orlando</td>\n",
       "      <td>FL</td>\n",
       "      <td>American</td>\n",
       "      <td>45323.0</td>\n",
       "      <td>28.607959</td>\n",
       "      <td>-81.192999</td>\n",
       "      <td>NaN</td>\n",
       "      <td>NaN</td>\n",
       "      <td>NaN</td>\n",
       "      <td>NaN</td>\n",
       "    </tr>\n",
       "    <tr>\n",
       "      <th>1</th>\n",
       "      <td>Cincinnati</td>\n",
       "      <td>AAC</td>\n",
       "      <td>Luke Fickell</td>\n",
       "      <td>2000000.0</td>\n",
       "      <td>2000000.0</td>\n",
       "      <td>625000.0</td>\n",
       "      <td>0.0</td>\n",
       "      <td>7100000.0</td>\n",
       "      <td>Nippert Stadium</td>\n",
       "      <td>Cincinnati</td>\n",
       "      <td>OH</td>\n",
       "      <td>American</td>\n",
       "      <td>40000.0</td>\n",
       "      <td>39.131284</td>\n",
       "      <td>-84.516261</td>\n",
       "      <td>AAC</td>\n",
       "      <td>OH</td>\n",
       "      <td>65.0</td>\n",
       "      <td>57.0</td>\n",
       "    </tr>\n",
       "    <tr>\n",
       "      <th>2</th>\n",
       "      <td>Connecticut</td>\n",
       "      <td>AAC</td>\n",
       "      <td>Randy Edsall</td>\n",
       "      <td>1100000.0</td>\n",
       "      <td>1100000.0</td>\n",
       "      <td>650000.0</td>\n",
       "      <td>129000.0</td>\n",
       "      <td>1000000.0</td>\n",
       "      <td>Rentschler Field</td>\n",
       "      <td>East Hartford</td>\n",
       "      <td>CT</td>\n",
       "      <td>American</td>\n",
       "      <td>40000.0</td>\n",
       "      <td>41.759884</td>\n",
       "      <td>-72.618942</td>\n",
       "      <td>AAC</td>\n",
       "      <td>CT</td>\n",
       "      <td>65.0</td>\n",
       "      <td>54.0</td>\n",
       "    </tr>\n",
       "  </tbody>\n",
       "</table>\n",
       "</div>"
      ],
      "text/plain": [
       "        school conference_x         coach  schoolpay   totalpay     bonus  \\\n",
       "0          UCF          AAC   Josh Heupel  1700000.0  1700000.0  250000.0   \n",
       "1   Cincinnati          AAC  Luke Fickell  2000000.0  2000000.0  625000.0   \n",
       "2  Connecticut          AAC  Randy Edsall  1100000.0  1100000.0  650000.0   \n",
       "\n",
       "   bonuspaid     buyout                        stadium           city state_x  \\\n",
       "0        NaN  3587500.0  Bright House Networks Stadium        Orlando      FL   \n",
       "1        0.0  7100000.0                Nippert Stadium     Cincinnati      OH   \n",
       "2   129000.0  1000000.0               Rentschler Field  East Hartford      CT   \n",
       "\n",
       "  conference_y  capacity   latitude  longitude conference state_y   gsr   fgr  \n",
       "0     American   45323.0  28.607959 -81.192999        NaN     NaN   NaN   NaN  \n",
       "1     American   40000.0  39.131284 -84.516261        AAC      OH  65.0  57.0  \n",
       "2     American   40000.0  41.759884 -72.618942        AAC      CT  65.0  54.0  "
      ]
     },
     "execution_count": 2756,
     "metadata": {},
     "output_type": "execute_result"
    }
   ],
   "source": [
    "Coaches_Stadiums_Grad_rates.head(3)"
   ]
  },
  {
   "cell_type": "code",
   "execution_count": 2757,
   "metadata": {},
   "outputs": [],
   "source": [
    "\n",
    "y = Coaches_Stadiums_Grad_rates['totalpay']\n",
    "X = Coaches_Stadiums_Grad_rates.drop(['totalpay','conference','conference_y','state_y'], axis = 1)\n",
    "\n"
   ]
  },
  {
   "cell_type": "code",
   "execution_count": 2758,
   "metadata": {},
   "outputs": [
    {
     "data": {
      "text/plain": [
       "school           0\n",
       "conference_x     0\n",
       "coach            0\n",
       "schoolpay        0\n",
       "bonus           18\n",
       "bonuspaid       37\n",
       "buyout          18\n",
       "stadium          0\n",
       "city             0\n",
       "state_x          0\n",
       "capacity         0\n",
       "latitude         0\n",
       "longitude        0\n",
       "gsr              5\n",
       "fgr              9\n",
       "dtype: int64"
      ]
     },
     "execution_count": 2758,
     "metadata": {},
     "output_type": "execute_result"
    }
   ],
   "source": [
    "X.isna().sum()"
   ]
  },
  {
   "cell_type": "code",
   "execution_count": 2759,
   "metadata": {},
   "outputs": [
    {
     "name": "stdout",
     "output_type": "stream",
     "text": [
      "float64\n",
      "float64\n",
      "float64\n",
      "float64\n",
      "float64\n"
     ]
    }
   ],
   "source": [
    "print(X['bonus'].dtype)\n",
    "print(X['bonuspaid'].dtype)\n",
    "print(X['buyout'].dtype)\n",
    "print(X['gsr'].dtype)\n",
    "print(X['fgr'].dtype)\n"
   ]
  },
  {
   "cell_type": "code",
   "execution_count": 2760,
   "metadata": {},
   "outputs": [
    {
     "data": {
      "text/plain": [
       "<matplotlib.axes._subplots.AxesSubplot at 0x1c369a0cc0>"
      ]
     },
     "execution_count": 2760,
     "metadata": {},
     "output_type": "execute_result"
    },
    {
     "data": {
      "image/png": "[encoded data removed]",
      "text/plain": [
       "<Figure size 432x288 with 1 Axes>"
      ]
     },
     "metadata": {},
     "output_type": "display_data"
    }
   ],
   "source": [
    "X.boxplot(column=\"bonus\")"
   ]
  },
  {
   "cell_type": "code",
   "execution_count": 2761,
   "metadata": {},
   "outputs": [
    {
     "data": {
      "text/plain": [
       "0    250000.0\n",
       "1    625000.0\n",
       "2    650000.0\n",
       "Name: bonus, dtype: float64"
      ]
     },
     "execution_count": 2761,
     "metadata": {},
     "output_type": "execute_result"
    }
   ],
   "source": [
    "X['bonus']= X['bonus'].fillna(X['bonus'].median())\n",
    "X['bonus'].head(3)"
   ]
  },
  {
   "cell_type": "code",
   "execution_count": 2762,
   "metadata": {},
   "outputs": [
    {
     "data": {
      "text/plain": [
       "<matplotlib.axes._subplots.AxesSubplot at 0x1c36b5ba58>"
      ]
     },
     "execution_count": 2762,
     "metadata": {},
     "output_type": "execute_result"
    },
    {
     "data": {
      "image/png": "[encoded data removed]",
      "text/plain": [
       "<Figure size 432x288 with 1 Axes>"
      ]
     },
     "metadata": {},
     "output_type": "display_data"
    }
   ],
   "source": [
    "X.boxplot(column=\"schoolpay\")"
   ]
  },
  {
   "cell_type": "code",
   "execution_count": 2763,
   "metadata": {},
   "outputs": [
    {
     "data": {
      "text/plain": [
       "0    1700000.0\n",
       "1    2000000.0\n",
       "2    1100000.0\n",
       "Name: schoolpay, dtype: float64"
      ]
     },
     "execution_count": 2763,
     "metadata": {},
     "output_type": "execute_result"
    }
   ],
   "source": [
    "X['schoolpay']= X['schoolpay'].fillna(X['schoolpay'].median())\n",
    "X['schoolpay'].head(3)"
   ]
  },
  {
   "cell_type": "code",
   "execution_count": 2764,
   "metadata": {},
   "outputs": [
    {
     "data": {
      "text/plain": [
       "<matplotlib.axes._subplots.AxesSubplot at 0x1c36aaae80>"
      ]
     },
     "execution_count": 2764,
     "metadata": {},
     "output_type": "execute_result"
    },
    {
     "data": {
      "image/png": "[encoded data removed]",
      "text/plain": [
       "<Figure size 432x288 with 1 Axes>"
      ]
     },
     "metadata": {},
     "output_type": "display_data"
    }
   ],
   "source": [
    "X.boxplot(column=\"bonuspaid\")"
   ]
  },
  {
   "cell_type": "code",
   "execution_count": 2765,
   "metadata": {},
   "outputs": [
    {
     "data": {
      "text/plain": [
       "0     63750.0\n",
       "1         0.0\n",
       "2    129000.0\n",
       "Name: bonuspaid, dtype: float64"
      ]
     },
     "execution_count": 2765,
     "metadata": {},
     "output_type": "execute_result"
    }
   ],
   "source": [
    "X['bonuspaid']= X['bonuspaid'].fillna(X['bonuspaid'].median())\n",
    "X['bonuspaid'].head(3)"
   ]
  },
  {
   "cell_type": "code",
   "execution_count": 2766,
   "metadata": {},
   "outputs": [
    {
     "data": {
      "text/plain": [
       "<matplotlib.axes._subplots.AxesSubplot at 0x1c36a54be0>"
      ]
     },
     "execution_count": 2766,
     "metadata": {},
     "output_type": "execute_result"
    },
    {
     "data": {
      "image/png": "[encoded data removed]",
      "text/plain": [
       "<Figure size 432x288 with 1 Axes>"
      ]
     },
     "metadata": {},
     "output_type": "display_data"
    }
   ],
   "source": [
    "X.boxplot(column=\"buyout\")"
   ]
  },
  {
   "cell_type": "code",
   "execution_count": 2767,
   "metadata": {},
   "outputs": [
    {
     "data": {
      "text/plain": [
       "0    3587500.0\n",
       "1    7100000.0\n",
       "2    1000000.0\n",
       "Name: buyout, dtype: float64"
      ]
     },
     "execution_count": 2767,
     "metadata": {},
     "output_type": "execute_result"
    }
   ],
   "source": [
    "X['buyout']= X['buyout'].fillna(X['buyout'].median())\n",
    "X['buyout'].head(3)"
   ]
  },
  {
   "cell_type": "code",
   "execution_count": 2768,
   "metadata": {},
   "outputs": [
    {
     "data": {
      "text/plain": [
       "<matplotlib.axes._subplots.AxesSubplot at 0x1c36d21be0>"
      ]
     },
     "execution_count": 2768,
     "metadata": {},
     "output_type": "execute_result"
    },
    {
     "data": {
      "image/png": "[encoded data removed]",
      "text/plain": [
       "<Figure size 432x288 with 1 Axes>"
      ]
     },
     "metadata": {},
     "output_type": "display_data"
    }
   ],
   "source": [
    "X.boxplot(column=\"gsr\")"
   ]
  },
  {
   "cell_type": "code",
   "execution_count": 2769,
   "metadata": {},
   "outputs": [
    {
     "data": {
      "text/plain": [
       "0    69.233333\n",
       "1    65.000000\n",
       "2    65.000000\n",
       "Name: gsr, dtype: float64"
      ]
     },
     "execution_count": 2769,
     "metadata": {},
     "output_type": "execute_result"
    }
   ],
   "source": [
    "X['gsr']= X['gsr'].fillna(X['gsr'].mean())\n",
    "#X['gsr'].isna().sum()\n",
    "X['gsr'].head(3)"
   ]
  },
  {
   "cell_type": "code",
   "execution_count": 2770,
   "metadata": {},
   "outputs": [
    {
     "data": {
      "text/plain": [
       "<matplotlib.axes._subplots.AxesSubplot at 0x1c3692ecc0>"
      ]
     },
     "execution_count": 2770,
     "metadata": {},
     "output_type": "execute_result"
    },
    {
     "data": {
      "image/png": "[encoded data removed]",
      "text/plain": [
       "<Figure size 432x288 with 1 Axes>"
      ]
     },
     "metadata": {},
     "output_type": "display_data"
    }
   ],
   "source": [
    "X.boxplot(column=\"fgr\")"
   ]
  },
  {
   "cell_type": "code",
   "execution_count": 2771,
   "metadata": {},
   "outputs": [
    {
     "data": {
      "text/plain": [
       "0    57.0\n",
       "1    57.0\n",
       "2    54.0\n",
       "Name: fgr, dtype: float64"
      ]
     },
     "execution_count": 2771,
     "metadata": {},
     "output_type": "execute_result"
    }
   ],
   "source": [
    "X['fgr']= X['fgr'].fillna(X['fgr'].median())\n",
    "X['fgr'].head(3)"
   ]
  },
  {
   "cell_type": "code",
   "execution_count": 2772,
   "metadata": {},
   "outputs": [
    {
     "data": {
      "text/plain": [
       "<matplotlib.axes._subplots.AxesSubplot at 0x1c36dd76d8>"
      ]
     },
     "execution_count": 2772,
     "metadata": {},
     "output_type": "execute_result"
    },
    {
     "data": {
      "image/png": "[encoded data removed]",
      "text/plain": [
       "<Figure size 432x288 with 1 Axes>"
      ]
     },
     "metadata": {},
     "output_type": "display_data"
    }
   ],
   "source": [
    "X.boxplot(column=\"capacity\")"
   ]
  },
  {
   "cell_type": "code",
   "execution_count": 2773,
   "metadata": {},
   "outputs": [
    {
     "data": {
      "text/plain": [
       "0"
      ]
     },
     "execution_count": 2773,
     "metadata": {},
     "output_type": "execute_result"
    }
   ],
   "source": [
    "X['capacity']= X['capacity'].fillna(X['capacity'].mean())\n",
    "X['capacity'].isna().sum()"
   ]
  },
  {
   "cell_type": "code",
   "execution_count": 2774,
   "metadata": {},
   "outputs": [
    {
     "data": {
      "text/html": [
       "<div>\n",
       "<style scoped>\n",
       "    .dataframe tbody tr th:only-of-type {\n",
       "        vertical-align: middle;\n",
       "    }\n",
       "\n",
       "    .dataframe tbody tr th {\n",
       "        vertical-align: top;\n",
       "    }\n",
       "\n",
       "    .dataframe thead th {\n",
       "        text-align: right;\n",
       "    }\n",
       "</style>\n",
       "<table border=\"1\" class=\"dataframe\">\n",
       "  <thead>\n",
       "    <tr style=\"text-align: right;\">\n",
       "      <th></th>\n",
       "      <th>schoolpay</th>\n",
       "      <th>bonus</th>\n",
       "      <th>bonuspaid</th>\n",
       "      <th>buyout</th>\n",
       "      <th>capacity</th>\n",
       "      <th>latitude</th>\n",
       "      <th>longitude</th>\n",
       "      <th>gsr</th>\n",
       "      <th>fgr</th>\n",
       "    </tr>\n",
       "  </thead>\n",
       "  <tbody>\n",
       "    <tr>\n",
       "      <th>schoolpay</th>\n",
       "      <td>1.000000</td>\n",
       "      <td>0.429027</td>\n",
       "      <td>0.409986</td>\n",
       "      <td>0.805180</td>\n",
       "      <td>0.806196</td>\n",
       "      <td>0.035737</td>\n",
       "      <td>0.059509</td>\n",
       "      <td>0.205615</td>\n",
       "      <td>0.156022</td>\n",
       "    </tr>\n",
       "    <tr>\n",
       "      <th>bonus</th>\n",
       "      <td>0.429027</td>\n",
       "      <td>1.000000</td>\n",
       "      <td>0.403646</td>\n",
       "      <td>0.364934</td>\n",
       "      <td>0.447904</td>\n",
       "      <td>0.013560</td>\n",
       "      <td>0.153656</td>\n",
       "      <td>0.050821</td>\n",
       "      <td>0.080806</td>\n",
       "    </tr>\n",
       "    <tr>\n",
       "      <th>bonuspaid</th>\n",
       "      <td>0.409986</td>\n",
       "      <td>0.403646</td>\n",
       "      <td>1.000000</td>\n",
       "      <td>0.414243</td>\n",
       "      <td>0.314102</td>\n",
       "      <td>0.084734</td>\n",
       "      <td>0.022373</td>\n",
       "      <td>0.111665</td>\n",
       "      <td>0.145734</td>\n",
       "    </tr>\n",
       "    <tr>\n",
       "      <th>buyout</th>\n",
       "      <td>0.805180</td>\n",
       "      <td>0.364934</td>\n",
       "      <td>0.414243</td>\n",
       "      <td>1.000000</td>\n",
       "      <td>0.659868</td>\n",
       "      <td>0.008839</td>\n",
       "      <td>0.027870</td>\n",
       "      <td>0.121250</td>\n",
       "      <td>0.087766</td>\n",
       "    </tr>\n",
       "    <tr>\n",
       "      <th>capacity</th>\n",
       "      <td>0.806196</td>\n",
       "      <td>0.447904</td>\n",
       "      <td>0.314102</td>\n",
       "      <td>0.659868</td>\n",
       "      <td>1.000000</td>\n",
       "      <td>0.102522</td>\n",
       "      <td>0.058891</td>\n",
       "      <td>0.117348</td>\n",
       "      <td>0.029376</td>\n",
       "    </tr>\n",
       "    <tr>\n",
       "      <th>latitude</th>\n",
       "      <td>0.035737</td>\n",
       "      <td>0.013560</td>\n",
       "      <td>0.084734</td>\n",
       "      <td>0.008839</td>\n",
       "      <td>0.102522</td>\n",
       "      <td>1.000000</td>\n",
       "      <td>0.056379</td>\n",
       "      <td>0.231602</td>\n",
       "      <td>0.210239</td>\n",
       "    </tr>\n",
       "    <tr>\n",
       "      <th>longitude</th>\n",
       "      <td>0.059509</td>\n",
       "      <td>0.153656</td>\n",
       "      <td>0.022373</td>\n",
       "      <td>0.027870</td>\n",
       "      <td>0.058891</td>\n",
       "      <td>0.056379</td>\n",
       "      <td>1.000000</td>\n",
       "      <td>0.042991</td>\n",
       "      <td>0.024780</td>\n",
       "    </tr>\n",
       "    <tr>\n",
       "      <th>gsr</th>\n",
       "      <td>0.205615</td>\n",
       "      <td>0.050821</td>\n",
       "      <td>0.111665</td>\n",
       "      <td>0.121250</td>\n",
       "      <td>0.117348</td>\n",
       "      <td>0.231602</td>\n",
       "      <td>0.042991</td>\n",
       "      <td>1.000000</td>\n",
       "      <td>0.780754</td>\n",
       "    </tr>\n",
       "    <tr>\n",
       "      <th>fgr</th>\n",
       "      <td>0.156022</td>\n",
       "      <td>0.080806</td>\n",
       "      <td>0.145734</td>\n",
       "      <td>0.087766</td>\n",
       "      <td>0.029376</td>\n",
       "      <td>0.210239</td>\n",
       "      <td>0.024780</td>\n",
       "      <td>0.780754</td>\n",
       "      <td>1.000000</td>\n",
       "    </tr>\n",
       "  </tbody>\n",
       "</table>\n",
       "</div>"
      ],
      "text/plain": [
       "           schoolpay     bonus  bonuspaid    buyout  capacity  latitude  \\\n",
       "schoolpay   1.000000  0.429027   0.409986  0.805180  0.806196  0.035737   \n",
       "bonus       0.429027  1.000000   0.403646  0.364934  0.447904  0.013560   \n",
       "bonuspaid   0.409986  0.403646   1.000000  0.414243  0.314102  0.084734   \n",
       "buyout      0.805180  0.364934   0.414243  1.000000  0.659868  0.008839   \n",
       "capacity    0.806196  0.447904   0.314102  0.659868  1.000000  0.102522   \n",
       "latitude    0.035737  0.013560   0.084734  0.008839  0.102522  1.000000   \n",
       "longitude   0.059509  0.153656   0.022373  0.027870  0.058891  0.056379   \n",
       "gsr         0.205615  0.050821   0.111665  0.121250  0.117348  0.231602   \n",
       "fgr         0.156022  0.080806   0.145734  0.087766  0.029376  0.210239   \n",
       "\n",
       "           longitude       gsr       fgr  \n",
       "schoolpay   0.059509  0.205615  0.156022  \n",
       "bonus       0.153656  0.050821  0.080806  \n",
       "bonuspaid   0.022373  0.111665  0.145734  \n",
       "buyout      0.027870  0.121250  0.087766  \n",
       "capacity    0.058891  0.117348  0.029376  \n",
       "latitude    0.056379  0.231602  0.210239  \n",
       "longitude   1.000000  0.042991  0.024780  \n",
       "gsr         0.042991  1.000000  0.780754  \n",
       "fgr         0.024780  0.780754  1.000000  "
      ]
     },
     "execution_count": 2774,
     "metadata": {},
     "output_type": "execute_result"
    }
   ],
   "source": [
    "X.corr().abs()"
   ]
  },
  {
   "cell_type": "code",
   "execution_count": 2795,
   "metadata": {},
   "outputs": [
    {
     "data": {
      "text/html": [
       "<div>\n",
       "<style scoped>\n",
       "    .dataframe tbody tr th:only-of-type {\n",
       "        vertical-align: middle;\n",
       "    }\n",
       "\n",
       "    .dataframe tbody tr th {\n",
       "        vertical-align: top;\n",
       "    }\n",
       "\n",
       "    .dataframe thead th {\n",
       "        text-align: right;\n",
       "    }\n",
       "</style>\n",
       "<table border=\"1\" class=\"dataframe\">\n",
       "  <thead>\n",
       "    <tr style=\"text-align: right;\">\n",
       "      <th></th>\n",
       "      <th>bonus</th>\n",
       "      <th>bonuspaid</th>\n",
       "      <th>buyout</th>\n",
       "      <th>capacity</th>\n",
       "      <th>gsr</th>\n",
       "      <th>fgr</th>\n",
       "      <th>conference_AAC</th>\n",
       "      <th>conference_ACC</th>\n",
       "      <th>conference_Big_12</th>\n",
       "      <th>conference_Big_Ten</th>\n",
       "      <th>conference_C_USA</th>\n",
       "      <th>conference_Ind.</th>\n",
       "      <th>conference_MAC</th>\n",
       "      <th>conference_Mt._West</th>\n",
       "      <th>conference_Pac_12</th>\n",
       "      <th>conference_SEC</th>\n",
       "      <th>conference_Sun_Belt</th>\n",
       "      <th>totalpay</th>\n",
       "    </tr>\n",
       "  </thead>\n",
       "  <tbody>\n",
       "    <tr>\n",
       "      <th>0</th>\n",
       "      <td>250000.0</td>\n",
       "      <td>63750.0</td>\n",
       "      <td>3587500.0</td>\n",
       "      <td>45323.0</td>\n",
       "      <td>69.233333</td>\n",
       "      <td>57.0</td>\n",
       "      <td>1</td>\n",
       "      <td>0</td>\n",
       "      <td>0</td>\n",
       "      <td>0</td>\n",
       "      <td>0</td>\n",
       "      <td>0</td>\n",
       "      <td>0</td>\n",
       "      <td>0</td>\n",
       "      <td>0</td>\n",
       "      <td>0</td>\n",
       "      <td>0</td>\n",
       "      <td>1700000.0</td>\n",
       "    </tr>\n",
       "    <tr>\n",
       "      <th>1</th>\n",
       "      <td>625000.0</td>\n",
       "      <td>0.0</td>\n",
       "      <td>7100000.0</td>\n",
       "      <td>40000.0</td>\n",
       "      <td>65.000000</td>\n",
       "      <td>57.0</td>\n",
       "      <td>1</td>\n",
       "      <td>0</td>\n",
       "      <td>0</td>\n",
       "      <td>0</td>\n",
       "      <td>0</td>\n",
       "      <td>0</td>\n",
       "      <td>0</td>\n",
       "      <td>0</td>\n",
       "      <td>0</td>\n",
       "      <td>0</td>\n",
       "      <td>0</td>\n",
       "      <td>2000000.0</td>\n",
       "    </tr>\n",
       "    <tr>\n",
       "      <th>2</th>\n",
       "      <td>650000.0</td>\n",
       "      <td>129000.0</td>\n",
       "      <td>1000000.0</td>\n",
       "      <td>40000.0</td>\n",
       "      <td>65.000000</td>\n",
       "      <td>54.0</td>\n",
       "      <td>1</td>\n",
       "      <td>0</td>\n",
       "      <td>0</td>\n",
       "      <td>0</td>\n",
       "      <td>0</td>\n",
       "      <td>0</td>\n",
       "      <td>0</td>\n",
       "      <td>0</td>\n",
       "      <td>0</td>\n",
       "      <td>0</td>\n",
       "      <td>0</td>\n",
       "      <td>1100000.0</td>\n",
       "    </tr>\n",
       "  </tbody>\n",
       "</table>\n",
       "</div>"
      ],
      "text/plain": [
       "      bonus  bonuspaid     buyout  capacity        gsr   fgr  conference_AAC  \\\n",
       "0  250000.0    63750.0  3587500.0   45323.0  69.233333  57.0               1   \n",
       "1  625000.0        0.0  7100000.0   40000.0  65.000000  57.0               1   \n",
       "2  650000.0   129000.0  1000000.0   40000.0  65.000000  54.0               1   \n",
       "\n",
       "   conference_ACC  conference_Big_12  conference_Big_Ten  conference_C_USA  \\\n",
       "0               0                  0                   0                 0   \n",
       "1               0                  0                   0                 0   \n",
       "2               0                  0                   0                 0   \n",
       "\n",
       "   conference_Ind.  conference_MAC  conference_Mt._West  conference_Pac_12  \\\n",
       "0                0               0                    0                  0   \n",
       "1                0               0                    0                  0   \n",
       "2                0               0                    0                  0   \n",
       "\n",
       "   conference_SEC  conference_Sun_Belt   totalpay  \n",
       "0               0                    0  1700000.0  \n",
       "1               0                    0  2000000.0  \n",
       "2               0                    0  1100000.0  "
      ]
     },
     "execution_count": 2795,
     "metadata": {},
     "output_type": "execute_result"
    }
   ],
   "source": [
    "X.columns\n",
    "X_clean=X\n",
    "X_new=X_clean\n",
    "X_new.columns\n",
    "clean_set1=pd.concat([X_clean,y], axis=1)\n",
    "clean_set1.head(3)"
   ]
  },
  {
   "cell_type": "code",
   "execution_count": 2776,
   "metadata": {},
   "outputs": [
    {
     "data": {
      "text/plain": [
       "Index(['school', 'conference', 'coach', 'schoolpay', 'bonus', 'bonuspaid',\n",
       "       'buyout', 'stadium', 'city', 'state', 'capacity', 'latitude',\n",
       "       'longitude', 'gsr', 'fgr'],\n",
       "      dtype='object')"
      ]
     },
     "execution_count": 2776,
     "metadata": {},
     "output_type": "execute_result"
    }
   ],
   "source": [
    "X_new.rename(columns={'conference_x': 'conference'}, inplace=True)\n",
    "X_new.rename(columns={'state_x': 'state'}, inplace=True)\n",
    "X_new.columns"
   ]
  },
  {
   "cell_type": "code",
   "execution_count": 2777,
   "metadata": {},
   "outputs": [
    {
     "data": {
      "text/html": [
       "<div>\n",
       "<style scoped>\n",
       "    .dataframe tbody tr th:only-of-type {\n",
       "        vertical-align: middle;\n",
       "    }\n",
       "\n",
       "    .dataframe tbody tr th {\n",
       "        vertical-align: top;\n",
       "    }\n",
       "\n",
       "    .dataframe thead th {\n",
       "        text-align: right;\n",
       "    }\n",
       "</style>\n",
       "<table border=\"1\" class=\"dataframe\">\n",
       "  <thead>\n",
       "    <tr style=\"text-align: right;\">\n",
       "      <th></th>\n",
       "      <th>conference_AAC</th>\n",
       "      <th>conference_ACC</th>\n",
       "      <th>conference_Big_12</th>\n",
       "      <th>conference_Big_Ten</th>\n",
       "      <th>conference_C_USA</th>\n",
       "      <th>conference_Ind.</th>\n",
       "      <th>conference_MAC</th>\n",
       "      <th>conference_Mt._West</th>\n",
       "      <th>conference_Pac_12</th>\n",
       "      <th>conference_SEC</th>\n",
       "      <th>conference_Sun_Belt</th>\n",
       "    </tr>\n",
       "  </thead>\n",
       "  <tbody>\n",
       "    <tr>\n",
       "      <th>0</th>\n",
       "      <td>1</td>\n",
       "      <td>0</td>\n",
       "      <td>0</td>\n",
       "      <td>0</td>\n",
       "      <td>0</td>\n",
       "      <td>0</td>\n",
       "      <td>0</td>\n",
       "      <td>0</td>\n",
       "      <td>0</td>\n",
       "      <td>0</td>\n",
       "      <td>0</td>\n",
       "    </tr>\n",
       "    <tr>\n",
       "      <th>1</th>\n",
       "      <td>1</td>\n",
       "      <td>0</td>\n",
       "      <td>0</td>\n",
       "      <td>0</td>\n",
       "      <td>0</td>\n",
       "      <td>0</td>\n",
       "      <td>0</td>\n",
       "      <td>0</td>\n",
       "      <td>0</td>\n",
       "      <td>0</td>\n",
       "      <td>0</td>\n",
       "    </tr>\n",
       "  </tbody>\n",
       "</table>\n",
       "</div>"
      ],
      "text/plain": [
       "   conference_AAC  conference_ACC  conference_Big_12  conference_Big_Ten  \\\n",
       "0               1               0                  0                   0   \n",
       "1               1               0                  0                   0   \n",
       "\n",
       "   conference_C_USA  conference_Ind.  conference_MAC  conference_Mt._West  \\\n",
       "0                 0                0               0                    0   \n",
       "1                 0                0               0                    0   \n",
       "\n",
       "   conference_Pac_12  conference_SEC  conference_Sun_Belt  \n",
       "0                  0               0                    0  \n",
       "1                  0               0                    0  "
      ]
     },
     "execution_count": 2777,
     "metadata": {},
     "output_type": "execute_result"
    }
   ],
   "source": [
    "conference_dummies=pd.get_dummies(X_new.conference, prefix='conference')#.iloc[:,1:]\n",
    "conference_dummies.rename(columns={'conference_Big Ten': 'conference_Big_Ten'}, inplace=True)\n",
    "conference_dummies.rename(columns={'conference_Big 12': 'conference_Big_12'}, inplace=True)\n",
    "conference_dummies.rename(columns={'conference_Mt. West': 'conference_Mt._West'}, inplace=True)\n",
    "conference_dummies.rename(columns={'conference_Pac-12': 'conference_Pac_12'}, inplace=True)\n",
    "conference_dummies.rename(columns={'conference_Sun Belt': 'conference_Sun_Belt'}, inplace=True)\n",
    "conference_dummies.rename(columns={'conference_C-USA': 'conference_C_USA'}, inplace=True)\n",
    "conference_dummies.head(2)"
   ]
  },
  {
   "cell_type": "code",
   "execution_count": 2778,
   "metadata": {},
   "outputs": [
    {
     "data": {
      "text/plain": [
       "Index(['school', 'conference', 'coach', 'schoolpay', 'bonus', 'bonuspaid',\n",
       "       'buyout', 'stadium', 'city', 'state', 'capacity', 'latitude',\n",
       "       'longitude', 'gsr', 'fgr', 'conference_AAC', 'conference_ACC',\n",
       "       'conference_Big_12', 'conference_Big_Ten', 'conference_C_USA',\n",
       "       'conference_Ind.', 'conference_MAC', 'conference_Mt._West',\n",
       "       'conference_Pac_12', 'conference_SEC', 'conference_Sun_Belt'],\n",
       "      dtype='object')"
      ]
     },
     "execution_count": 2778,
     "metadata": {},
     "output_type": "execute_result"
    }
   ],
   "source": [
    "X_new=pd.concat([X_new,conference_dummies], axis=1)\n",
    "X_new.columns"
   ]
  },
  {
   "cell_type": "code",
   "execution_count": 2779,
   "metadata": {},
   "outputs": [],
   "source": [
    "from sklearn.linear_model import LinearRegression\n",
    "X=X_new[['bonus', 'bonuspaid',\n",
    "       'buyout', 'capacity', 'gsr', 'fgr','conference_AAC', 'conference_ACC',\n",
    "       'conference_Big_12', 'conference_Big_Ten', 'conference_C_USA',\n",
    "       'conference_Ind.', 'conference_MAC', 'conference_Mt._West',\n",
    "       'conference_Pac_12', 'conference_SEC', 'conference_Sun_Belt' ]]\n",
    "\n",
    "model= LinearRegression().fit(X,y)\n"
   ]
  },
  {
   "cell_type": "code",
   "execution_count": 2780,
   "metadata": {},
   "outputs": [
    {
     "data": {
      "text/plain": [
       "0.8931016793485183"
      ]
     },
     "execution_count": 2780,
     "metadata": {},
     "output_type": "execute_result"
    }
   ],
   "source": [
    "model.score(X,y)"
   ]
  },
  {
   "cell_type": "code",
   "execution_count": 2781,
   "metadata": {},
   "outputs": [
    {
     "data": {
      "text/plain": [
       "465550.36327119544"
      ]
     },
     "execution_count": 2781,
     "metadata": {},
     "output_type": "execute_result"
    }
   ],
   "source": [
    "model.coef_\n",
    "model.intercept_"
   ]
  },
  {
   "cell_type": "code",
   "execution_count": 2782,
   "metadata": {},
   "outputs": [
    {
     "data": {
      "text/plain": [
       "2764649.704522842"
      ]
     },
     "execution_count": 2782,
     "metadata": {},
     "output_type": "execute_result"
    }
   ],
   "source": [
    "syr=X_new.loc[X_new.school=='Syracuse']\n",
    "syr= syr[[ 'bonus', 'bonuspaid',\n",
    "       'buyout', 'capacity', 'gsr', 'fgr', 'conference_AAC', 'conference_ACC',\n",
    "       'conference_Big_12', 'conference_Big_Ten', 'conference_C_USA',\n",
    "       'conference_Ind.', 'conference_MAC', 'conference_Mt._West',\n",
    "       'conference_Pac_12', 'conference_SEC', 'conference_Sun_Belt']]\n",
    "y_pred=model.predict(X)\n",
    "y_pred[20]"
   ]
  },
  {
   "cell_type": "code",
   "execution_count": 2783,
   "metadata": {},
   "outputs": [
    {
     "data": {
      "text/plain": [
       "20    2.764650e+06\n",
       "dtype: float64"
      ]
     },
     "execution_count": 2783,
     "metadata": {},
     "output_type": "execute_result"
    }
   ],
   "source": [
    "#Syracuse coach salary by doing the math\n",
    "y_pred_math = model.intercept_ + np.sum(model.coef_ * syr, axis=1)\n",
    "y_pred_math"
   ]
  },
  {
   "cell_type": "code",
   "execution_count": 2784,
   "metadata": {},
   "outputs": [
    {
     "data": {
      "text/plain": [
       "0.20465132547081605"
      ]
     },
     "execution_count": 2784,
     "metadata": {},
     "output_type": "execute_result"
    }
   ],
   "source": [
    "y.corr(X_new['gsr'])"
   ]
  },
  {
   "cell_type": "code",
   "execution_count": 2785,
   "metadata": {},
   "outputs": [
    {
     "data": {
      "text/html": [
       "<div>\n",
       "<style scoped>\n",
       "    .dataframe tbody tr th:only-of-type {\n",
       "        vertical-align: middle;\n",
       "    }\n",
       "\n",
       "    .dataframe tbody tr th {\n",
       "        vertical-align: top;\n",
       "    }\n",
       "\n",
       "    .dataframe thead th {\n",
       "        text-align: right;\n",
       "    }\n",
       "</style>\n",
       "<table border=\"1\" class=\"dataframe\">\n",
       "  <thead>\n",
       "    <tr style=\"text-align: right;\">\n",
       "      <th></th>\n",
       "      <th>schoolpay</th>\n",
       "      <th>totalpay</th>\n",
       "      <th>bonus</th>\n",
       "      <th>bonuspaid</th>\n",
       "      <th>buyout</th>\n",
       "      <th>capacity</th>\n",
       "      <th>latitude</th>\n",
       "      <th>longitude</th>\n",
       "      <th>gsr</th>\n",
       "      <th>fgr</th>\n",
       "    </tr>\n",
       "  </thead>\n",
       "  <tbody>\n",
       "    <tr>\n",
       "      <th>schoolpay</th>\n",
       "      <td>1.000000</td>\n",
       "      <td>0.999692</td>\n",
       "      <td>0.444401</td>\n",
       "      <td>0.491514</td>\n",
       "      <td>0.838880</td>\n",
       "      <td>0.806196</td>\n",
       "      <td>0.035737</td>\n",
       "      <td>0.059509</td>\n",
       "      <td>0.208242</td>\n",
       "      <td>0.156292</td>\n",
       "    </tr>\n",
       "    <tr>\n",
       "      <th>totalpay</th>\n",
       "      <td>0.999692</td>\n",
       "      <td>1.000000</td>\n",
       "      <td>0.447757</td>\n",
       "      <td>0.492325</td>\n",
       "      <td>0.841151</td>\n",
       "      <td>0.806247</td>\n",
       "      <td>0.032636</td>\n",
       "      <td>0.056948</td>\n",
       "      <td>0.207278</td>\n",
       "      <td>0.156172</td>\n",
       "    </tr>\n",
       "    <tr>\n",
       "      <th>bonus</th>\n",
       "      <td>0.444401</td>\n",
       "      <td>0.447757</td>\n",
       "      <td>1.000000</td>\n",
       "      <td>0.496681</td>\n",
       "      <td>0.359071</td>\n",
       "      <td>0.471265</td>\n",
       "      <td>0.010799</td>\n",
       "      <td>0.157673</td>\n",
       "      <td>0.110513</td>\n",
       "      <td>0.157583</td>\n",
       "    </tr>\n",
       "    <tr>\n",
       "      <th>bonuspaid</th>\n",
       "      <td>0.491514</td>\n",
       "      <td>0.492325</td>\n",
       "      <td>0.496681</td>\n",
       "      <td>1.000000</td>\n",
       "      <td>0.545029</td>\n",
       "      <td>0.404784</td>\n",
       "      <td>0.073079</td>\n",
       "      <td>0.031942</td>\n",
       "      <td>0.245265</td>\n",
       "      <td>0.298273</td>\n",
       "    </tr>\n",
       "    <tr>\n",
       "      <th>buyout</th>\n",
       "      <td>0.838880</td>\n",
       "      <td>0.841151</td>\n",
       "      <td>0.359071</td>\n",
       "      <td>0.545029</td>\n",
       "      <td>1.000000</td>\n",
       "      <td>0.689180</td>\n",
       "      <td>0.015978</td>\n",
       "      <td>0.048345</td>\n",
       "      <td>0.270087</td>\n",
       "      <td>0.216466</td>\n",
       "    </tr>\n",
       "    <tr>\n",
       "      <th>capacity</th>\n",
       "      <td>0.806196</td>\n",
       "      <td>0.806247</td>\n",
       "      <td>0.471265</td>\n",
       "      <td>0.404784</td>\n",
       "      <td>0.689180</td>\n",
       "      <td>1.000000</td>\n",
       "      <td>0.102522</td>\n",
       "      <td>0.058891</td>\n",
       "      <td>0.118263</td>\n",
       "      <td>0.027746</td>\n",
       "    </tr>\n",
       "    <tr>\n",
       "      <th>latitude</th>\n",
       "      <td>0.035737</td>\n",
       "      <td>0.032636</td>\n",
       "      <td>0.010799</td>\n",
       "      <td>0.073079</td>\n",
       "      <td>0.015978</td>\n",
       "      <td>0.102522</td>\n",
       "      <td>1.000000</td>\n",
       "      <td>0.056379</td>\n",
       "      <td>0.238843</td>\n",
       "      <td>0.216106</td>\n",
       "    </tr>\n",
       "    <tr>\n",
       "      <th>longitude</th>\n",
       "      <td>0.059509</td>\n",
       "      <td>0.056948</td>\n",
       "      <td>0.157673</td>\n",
       "      <td>0.031942</td>\n",
       "      <td>0.048345</td>\n",
       "      <td>0.058891</td>\n",
       "      <td>0.056379</td>\n",
       "      <td>1.000000</td>\n",
       "      <td>0.043362</td>\n",
       "      <td>0.023091</td>\n",
       "    </tr>\n",
       "    <tr>\n",
       "      <th>gsr</th>\n",
       "      <td>0.208242</td>\n",
       "      <td>0.207278</td>\n",
       "      <td>0.110513</td>\n",
       "      <td>0.245265</td>\n",
       "      <td>0.270087</td>\n",
       "      <td>0.118263</td>\n",
       "      <td>0.238843</td>\n",
       "      <td>0.043362</td>\n",
       "      <td>1.000000</td>\n",
       "      <td>0.826774</td>\n",
       "    </tr>\n",
       "    <tr>\n",
       "      <th>fgr</th>\n",
       "      <td>0.156292</td>\n",
       "      <td>0.156172</td>\n",
       "      <td>0.157583</td>\n",
       "      <td>0.298273</td>\n",
       "      <td>0.216466</td>\n",
       "      <td>0.027746</td>\n",
       "      <td>0.216106</td>\n",
       "      <td>0.023091</td>\n",
       "      <td>0.826774</td>\n",
       "      <td>1.000000</td>\n",
       "    </tr>\n",
       "  </tbody>\n",
       "</table>\n",
       "</div>"
      ],
      "text/plain": [
       "           schoolpay  totalpay     bonus  bonuspaid    buyout  capacity  \\\n",
       "schoolpay   1.000000  0.999692  0.444401   0.491514  0.838880  0.806196   \n",
       "totalpay    0.999692  1.000000  0.447757   0.492325  0.841151  0.806247   \n",
       "bonus       0.444401  0.447757  1.000000   0.496681  0.359071  0.471265   \n",
       "bonuspaid   0.491514  0.492325  0.496681   1.000000  0.545029  0.404784   \n",
       "buyout      0.838880  0.841151  0.359071   0.545029  1.000000  0.689180   \n",
       "capacity    0.806196  0.806247  0.471265   0.404784  0.689180  1.000000   \n",
       "latitude    0.035737  0.032636  0.010799   0.073079  0.015978  0.102522   \n",
       "longitude   0.059509  0.056948  0.157673   0.031942  0.048345  0.058891   \n",
       "gsr         0.208242  0.207278  0.110513   0.245265  0.270087  0.118263   \n",
       "fgr         0.156292  0.156172  0.157583   0.298273  0.216466  0.027746   \n",
       "\n",
       "           latitude  longitude       gsr       fgr  \n",
       "schoolpay  0.035737   0.059509  0.208242  0.156292  \n",
       "totalpay   0.032636   0.056948  0.207278  0.156172  \n",
       "bonus      0.010799   0.157673  0.110513  0.157583  \n",
       "bonuspaid  0.073079   0.031942  0.245265  0.298273  \n",
       "buyout     0.015978   0.048345  0.270087  0.216466  \n",
       "capacity   0.102522   0.058891  0.118263  0.027746  \n",
       "latitude   1.000000   0.056379  0.238843  0.216106  \n",
       "longitude  0.056379   1.000000  0.043362  0.023091  \n",
       "gsr        0.238843   0.043362  1.000000  0.826774  \n",
       "fgr        0.216106   0.023091  0.826774  1.000000  "
      ]
     },
     "execution_count": 2785,
     "metadata": {},
     "output_type": "execute_result"
    }
   ],
   "source": [
    "Coaches_Stadiums_Grad_rates.corr().abs()"
   ]
  },
  {
   "cell_type": "code",
   "execution_count": 2786,
   "metadata": {},
   "outputs": [
    {
     "data": {
      "text/plain": [
       "0.8931016793485183"
      ]
     },
     "execution_count": 2786,
     "metadata": {},
     "output_type": "execute_result"
    }
   ],
   "source": [
    "model.score(X,y)"
   ]
  },
  {
   "cell_type": "code",
   "execution_count": 2787,
   "metadata": {},
   "outputs": [
    {
     "data": {
      "text/plain": [
       "465550.36327119544"
      ]
     },
     "execution_count": 2787,
     "metadata": {},
     "output_type": "execute_result"
    }
   ],
   "source": [
    "model.coef_\n",
    "model.intercept_"
   ]
  },
  {
   "cell_type": "code",
   "execution_count": 2788,
   "metadata": {},
   "outputs": [
    {
     "data": {
      "text/plain": [
       "array(['AAC', 'ACC', 'Big 12', 'Big Ten', 'C-USA', 'Ind.', 'MAC',\n",
       "       'Mt. West', 'Pac-12', 'SEC', 'Sun Belt'], dtype=object)"
      ]
     },
     "execution_count": 2788,
     "metadata": {},
     "output_type": "execute_result"
    }
   ],
   "source": [
    "conferences = X_new.conference.unique()\n",
    "conferences"
   ]
  },
  {
   "cell_type": "code",
   "execution_count": 2789,
   "metadata": {},
   "outputs": [],
   "source": [
    "syr= syr[[ 'bonus', 'bonuspaid',\n",
    "       'buyout', 'capacity', 'gsr', 'fgr', 'conference_AAC', 'conference_ACC',\n",
    "       'conference_Big_12', 'conference_Big_Ten', 'conference_C_USA',\n",
    "       'conference_Ind.', 'conference_MAC', 'conference_Mt._West',\n",
    "       'conference_Pac_12', 'conference_SEC', 'conference_Sun_Belt']]"
   ]
  },
  {
   "cell_type": "code",
   "execution_count": 2790,
   "metadata": {},
   "outputs": [
    {
     "data": {
      "text/html": [
       "<div>\n",
       "<style scoped>\n",
       "    .dataframe tbody tr th:only-of-type {\n",
       "        vertical-align: middle;\n",
       "    }\n",
       "\n",
       "    .dataframe tbody tr th {\n",
       "        vertical-align: top;\n",
       "    }\n",
       "\n",
       "    .dataframe thead th {\n",
       "        text-align: right;\n",
       "    }\n",
       "</style>\n",
       "<table border=\"1\" class=\"dataframe\">\n",
       "  <thead>\n",
       "    <tr style=\"text-align: right;\">\n",
       "      <th></th>\n",
       "      <th>bonus</th>\n",
       "      <th>bonuspaid</th>\n",
       "      <th>buyout</th>\n",
       "      <th>capacity</th>\n",
       "      <th>gsr</th>\n",
       "      <th>fgr</th>\n",
       "      <th>conference_AAC</th>\n",
       "      <th>conference_ACC</th>\n",
       "      <th>conference_Big_12</th>\n",
       "      <th>conference_Big_Ten</th>\n",
       "      <th>conference_C_USA</th>\n",
       "      <th>conference_Ind.</th>\n",
       "      <th>conference_MAC</th>\n",
       "      <th>conference_Mt._West</th>\n",
       "      <th>conference_Pac_12</th>\n",
       "      <th>conference_SEC</th>\n",
       "      <th>conference_Sun_Belt</th>\n",
       "    </tr>\n",
       "  </thead>\n",
       "  <tbody>\n",
       "    <tr>\n",
       "      <th>20</th>\n",
       "      <td>775000.0</td>\n",
       "      <td>63750.0</td>\n",
       "      <td>4000000.0</td>\n",
       "      <td>49250.0</td>\n",
       "      <td>77.0</td>\n",
       "      <td>64.0</td>\n",
       "      <td>0</td>\n",
       "      <td>1</td>\n",
       "      <td>0</td>\n",
       "      <td>0</td>\n",
       "      <td>0</td>\n",
       "      <td>0</td>\n",
       "      <td>0</td>\n",
       "      <td>0</td>\n",
       "      <td>0</td>\n",
       "      <td>0</td>\n",
       "      <td>0</td>\n",
       "    </tr>\n",
       "  </tbody>\n",
       "</table>\n",
       "</div>"
      ],
      "text/plain": [
       "       bonus  bonuspaid     buyout  capacity   gsr   fgr  conference_AAC  \\\n",
       "20  775000.0    63750.0  4000000.0   49250.0  77.0  64.0               0   \n",
       "\n",
       "    conference_ACC  conference_Big_12  conference_Big_Ten  conference_C_USA  \\\n",
       "20               1                  0                   0                 0   \n",
       "\n",
       "    conference_Ind.  conference_MAC  conference_Mt._West  conference_Pac_12  \\\n",
       "20                0               0                    0                  0   \n",
       "\n",
       "    conference_SEC  conference_Sun_Belt  \n",
       "20               0                    0  "
      ]
     },
     "execution_count": 2790,
     "metadata": {},
     "output_type": "execute_result"
    }
   ],
   "source": [
    "syr"
   ]
  },
  {
   "cell_type": "code",
   "execution_count": 2791,
   "metadata": {},
   "outputs": [
    {
     "data": {
      "text/html": [
       "<div>\n",
       "<style scoped>\n",
       "    .dataframe tbody tr th:only-of-type {\n",
       "        vertical-align: middle;\n",
       "    }\n",
       "\n",
       "    .dataframe tbody tr th {\n",
       "        vertical-align: top;\n",
       "    }\n",
       "\n",
       "    .dataframe thead th {\n",
       "        text-align: right;\n",
       "    }\n",
       "</style>\n",
       "<table border=\"1\" class=\"dataframe\">\n",
       "  <thead>\n",
       "    <tr style=\"text-align: right;\">\n",
       "      <th></th>\n",
       "      <th>bonus</th>\n",
       "      <th>bonuspaid</th>\n",
       "      <th>buyout</th>\n",
       "      <th>capacity</th>\n",
       "      <th>gsr</th>\n",
       "      <th>fgr</th>\n",
       "      <th>conference_AAC</th>\n",
       "      <th>conference_ACC</th>\n",
       "      <th>conference_Big_12</th>\n",
       "      <th>conference_Big_Ten</th>\n",
       "      <th>conference_C_USA</th>\n",
       "      <th>conference_Ind.</th>\n",
       "      <th>conference_MAC</th>\n",
       "      <th>conference_Mt._West</th>\n",
       "      <th>conference_Pac_12</th>\n",
       "      <th>conference_SEC</th>\n",
       "      <th>conference_Sun_Belt</th>\n",
       "    </tr>\n",
       "  </thead>\n",
       "  <tbody>\n",
       "    <tr>\n",
       "      <th>20</th>\n",
       "      <td>775000.0</td>\n",
       "      <td>63750.0</td>\n",
       "      <td>4000000.0</td>\n",
       "      <td>49250.0</td>\n",
       "      <td>77.0</td>\n",
       "      <td>64.0</td>\n",
       "      <td>0</td>\n",
       "      <td>0</td>\n",
       "      <td>0</td>\n",
       "      <td>1</td>\n",
       "      <td>0</td>\n",
       "      <td>0</td>\n",
       "      <td>0</td>\n",
       "      <td>0</td>\n",
       "      <td>0</td>\n",
       "      <td>0</td>\n",
       "      <td>0</td>\n",
       "    </tr>\n",
       "  </tbody>\n",
       "</table>\n",
       "</div>"
      ],
      "text/plain": [
       "       bonus  bonuspaid     buyout  capacity   gsr   fgr  conference_AAC  \\\n",
       "20  775000.0    63750.0  4000000.0   49250.0  77.0  64.0               0   \n",
       "\n",
       "    conference_ACC  conference_Big_12  conference_Big_Ten  conference_C_USA  \\\n",
       "20               0                  0                   1                 0   \n",
       "\n",
       "    conference_Ind.  conference_MAC  conference_Mt._West  conference_Pac_12  \\\n",
       "20                0               0                    0                  0   \n",
       "\n",
       "    conference_SEC  conference_Sun_Belt  \n",
       "20               0                    0  "
      ]
     },
     "execution_count": 2791,
     "metadata": {},
     "output_type": "execute_result"
    }
   ],
   "source": [
    "syr_big_ten=syr.loc[syr.conference_ACC == 1, 'conference_ACC'] = 0\n",
    "syr_big_ten=syr.loc[syr.conference_Big_Ten == 0, 'conference_Big_Ten'] = 1\n",
    "syr_big_ten=syr\n",
    "syr_big_ten\n"
   ]
  },
  {
   "cell_type": "code",
   "execution_count": 2792,
   "metadata": {},
   "outputs": [
    {
     "data": {
      "text/plain": [
       "array([3168309.50007188])"
      ]
     },
     "execution_count": 2792,
     "metadata": {},
     "output_type": "execute_result"
    }
   ],
   "source": [
    "y_pred=model.predict(syr_big_ten)\n",
    "y_pred"
   ]
  },
  {
   "cell_type": "code",
   "execution_count": null,
   "metadata": {},
   "outputs": [],
   "source": []
  },
  {
   "cell_type": "code",
   "execution_count": null,
   "metadata": {},
   "outputs": [],
   "source": []
  },
  {
   "cell_type": "code",
   "execution_count": null,
   "metadata": {},
   "outputs": [],
   "source": []
  },
  {
   "cell_type": "code",
   "execution_count": null,
   "metadata": {},
   "outputs": [],
   "source": []
  },
  {
   "cell_type": "code",
   "execution_count": null,
   "metadata": {},
   "outputs": [],
   "source": []
  }
 ],
 "metadata": {
  "kernelspec": {
   "display_name": "Python 3",
   "language": "python",
   "name": "python3"
  },
  "language_info": {
   "codemirror_mode": {
    "name": "ipython",
    "version": 3
   },
   "file_extension": ".py",
   "mimetype": "text/x-python",
   "name": "python",
   "nbconvert_exporter": "python",
   "pygments_lexer": "ipython3",
   "version": "3.7.3"
  }
 },
 "nbformat": 4,
 "nbformat_minor": 2
}
